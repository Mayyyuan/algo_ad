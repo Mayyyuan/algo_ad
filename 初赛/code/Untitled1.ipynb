{
 "cells": [
  {
   "cell_type": "code",
   "execution_count": 1,
   "metadata": {
    "collapsed": true
   },
   "outputs": [],
   "source": [
    "import pandas as pd"
   ]
  },
  {
   "cell_type": "code",
   "execution_count": 4,
   "metadata": {},
   "outputs": [
    {
     "data": {
      "text/html": [
       "<div>\n",
       "<style>\n",
       "    .dataframe thead tr:only-child th {\n",
       "        text-align: right;\n",
       "    }\n",
       "\n",
       "    .dataframe thead th {\n",
       "        text-align: left;\n",
       "    }\n",
       "\n",
       "    .dataframe tbody tr th {\n",
       "        vertical-align: top;\n",
       "    }\n",
       "</style>\n",
       "<table border=\"1\" class=\"dataframe\">\n",
       "  <thead>\n",
       "    <tr style=\"text-align: right;\">\n",
       "      <th></th>\n",
       "      <th>0</th>\n",
       "      <th>1</th>\n",
       "      <th>2</th>\n",
       "      <th>3</th>\n",
       "      <th>4</th>\n",
       "      <th>5</th>\n",
       "      <th>6</th>\n",
       "      <th>7</th>\n",
       "      <th>8</th>\n",
       "      <th>9</th>\n",
       "      <th>10</th>\n",
       "    </tr>\n",
       "  </thead>\n",
       "  <tbody>\n",
       "    <tr>\n",
       "      <th>0</th>\n",
       "      <td>1</td>\n",
       "      <td>394352</td>\n",
       "      <td>1529648412</td>\n",
       "      <td>34</td>\n",
       "      <td>84</td>\n",
       "      <td>13</td>\n",
       "      <td>29663</td>\n",
       "      <td>26657</td>\n",
       "      <td>281474976645120,281474976645120,28147497664512...</td>\n",
       "      <td>age:819,608,988,741,202,837,400,394,942,361,72...</td>\n",
       "      <td>120</td>\n",
       "    </tr>\n",
       "    <tr>\n",
       "      <th>1</th>\n",
       "      <td>2</td>\n",
       "      <td>585401</td>\n",
       "      <td>1553076190</td>\n",
       "      <td>40</td>\n",
       "      <td>221</td>\n",
       "      <td>1</td>\n",
       "      <td>-1</td>\n",
       "      <td>6262</td>\n",
       "      <td>281474976579587,281474976579587,28147497657958...</td>\n",
       "      <td>age:819,433,479,741,229,347,522,79,753,601|edu...</td>\n",
       "      <td>42</td>\n",
       "    </tr>\n",
       "    <tr>\n",
       "      <th>2</th>\n",
       "      <td>3</td>\n",
       "      <td>419408</td>\n",
       "      <td>1553031394</td>\n",
       "      <td>30</td>\n",
       "      <td>122</td>\n",
       "      <td>13</td>\n",
       "      <td>32110</td>\n",
       "      <td>17436</td>\n",
       "      <td>17592185782272,17592185782272,17592185782272,1...</td>\n",
       "      <td>all</td>\n",
       "      <td>6</td>\n",
       "    </tr>\n",
       "    <tr>\n",
       "      <th>3</th>\n",
       "      <td>4</td>\n",
       "      <td>405326</td>\n",
       "      <td>1553238836</td>\n",
       "      <td>64</td>\n",
       "      <td>136</td>\n",
       "      <td>1</td>\n",
       "      <td>-1</td>\n",
       "      <td>22359</td>\n",
       "      <td>281474976694272,281474976694272,28147497669427...</td>\n",
       "      <td>age:333,1|gender:2|area:11505,1874,3790,4566,5...</td>\n",
       "      <td>181</td>\n",
       "    </tr>\n",
       "    <tr>\n",
       "      <th>4</th>\n",
       "      <td>5</td>\n",
       "      <td>578942</td>\n",
       "      <td>1541191585</td>\n",
       "      <td>34</td>\n",
       "      <td>12</td>\n",
       "      <td>13</td>\n",
       "      <td>6372</td>\n",
       "      <td>24082</td>\n",
       "      <td>68719214592,68719214592,68719214592,6871921459...</td>\n",
       "      <td>age:819,608,988,741,202,837,400,394,942,361,72...</td>\n",
       "      <td>31</td>\n",
       "    </tr>\n",
       "  </tbody>\n",
       "</table>\n",
       "</div>"
      ],
      "text/plain": [
       "   0       1           2   3    4   5      6      7   \\\n",
       "0   1  394352  1529648412  34   84  13  29663  26657   \n",
       "1   2  585401  1553076190  40  221   1     -1   6262   \n",
       "2   3  419408  1553031394  30  122  13  32110  17436   \n",
       "3   4  405326  1553238836  64  136   1     -1  22359   \n",
       "4   5  578942  1541191585  34   12  13   6372  24082   \n",
       "\n",
       "                                                  8   \\\n",
       "0  281474976645120,281474976645120,28147497664512...   \n",
       "1  281474976579587,281474976579587,28147497657958...   \n",
       "2  17592185782272,17592185782272,17592185782272,1...   \n",
       "3  281474976694272,281474976694272,28147497669427...   \n",
       "4  68719214592,68719214592,68719214592,6871921459...   \n",
       "\n",
       "                                                  9    10  \n",
       "0  age:819,608,988,741,202,837,400,394,942,361,72...  120  \n",
       "1  age:819,433,479,741,229,347,522,79,753,601|edu...   42  \n",
       "2                                                all    6  \n",
       "3  age:333,1|gender:2|area:11505,1874,3790,4566,5...  181  \n",
       "4  age:819,608,988,741,202,837,400,394,942,361,72...   31  "
      ]
     },
     "execution_count": 4,
     "metadata": {},
     "output_type": "execute_result"
    }
   ],
   "source": [
    "test= pd.read_table(\"../data/test_sample.dat\",header=None)\n",
    "test.head()"
   ]
  },
  {
   "cell_type": "code",
   "execution_count": 3,
   "metadata": {},
   "outputs": [
    {
     "data": {
      "text/plain": [
       "(20289, 11)"
      ]
     },
     "execution_count": 3,
     "metadata": {},
     "output_type": "execute_result"
    }
   ],
   "source": [
    "test.shape"
   ]
  },
  {
   "cell_type": "code",
   "execution_count": 6,
   "metadata": {},
   "outputs": [
    {
     "data": {
      "text/plain": [
       "array([394352, 585401, 419408, ..., 430102, 479619,  20628], dtype=int64)"
      ]
     },
     "execution_count": 6,
     "metadata": {},
     "output_type": "execute_result"
    }
   ],
   "source": [
    "test[1].unique()"
   ]
  },
  {
   "cell_type": "code",
   "execution_count": 10,
   "metadata": {},
   "outputs": [
    {
     "data": {
      "text/plain": [
       "1954"
      ]
     },
     "execution_count": 10,
     "metadata": {},
     "output_type": "execute_result"
    }
   ],
   "source": [
    "len(test[1].unique())"
   ]
  },
  {
   "cell_type": "code",
   "execution_count": 4,
   "metadata": {},
   "outputs": [
    {
     "data": {
      "text/html": [
       "<div>\n",
       "<style>\n",
       "    .dataframe thead tr:only-child th {\n",
       "        text-align: right;\n",
       "    }\n",
       "\n",
       "    .dataframe thead th {\n",
       "        text-align: left;\n",
       "    }\n",
       "\n",
       "    .dataframe tbody tr th {\n",
       "        vertical-align: top;\n",
       "    }\n",
       "</style>\n",
       "<table border=\"1\" class=\"dataframe\">\n",
       "  <thead>\n",
       "    <tr style=\"text-align: right;\">\n",
       "      <th></th>\n",
       "      <th>id</th>\n",
       "      <th>opa1</th>\n",
       "      <th>opa2</th>\n",
       "      <th>ops3</th>\n",
       "      <th>op4</th>\n",
       "    </tr>\n",
       "  </thead>\n",
       "  <tbody>\n",
       "    <tr>\n",
       "      <th>0</th>\n",
       "      <td>593323</td>\n",
       "      <td>0</td>\n",
       "      <td>2</td>\n",
       "      <td>2</td>\n",
       "      <td>90</td>\n",
       "    </tr>\n",
       "    <tr>\n",
       "      <th>1</th>\n",
       "      <td>593323</td>\n",
       "      <td>0</td>\n",
       "      <td>2</td>\n",
       "      <td>3</td>\n",
       "      <td>all</td>\n",
       "    </tr>\n",
       "    <tr>\n",
       "      <th>2</th>\n",
       "      <td>593323</td>\n",
       "      <td>0</td>\n",
       "      <td>2</td>\n",
       "      <td>4</td>\n",
       "      <td>281474976710655,281474976710655,28147497671065...</td>\n",
       "    </tr>\n",
       "    <tr>\n",
       "      <th>3</th>\n",
       "      <td>593323</td>\n",
       "      <td>20190217000000</td>\n",
       "      <td>1</td>\n",
       "      <td>1</td>\n",
       "      <td>0</td>\n",
       "    </tr>\n",
       "    <tr>\n",
       "      <th>4</th>\n",
       "      <td>593323</td>\n",
       "      <td>20190218233855</td>\n",
       "      <td>1</td>\n",
       "      <td>2</td>\n",
       "      <td>90</td>\n",
       "    </tr>\n",
       "  </tbody>\n",
       "</table>\n",
       "</div>"
      ],
      "text/plain": [
       "       id            opa1  opa2  ops3  \\\n",
       "0  593323               0     2     2   \n",
       "1  593323               0     2     3   \n",
       "2  593323               0     2     4   \n",
       "3  593323  20190217000000     1     1   \n",
       "4  593323  20190218233855     1     2   \n",
       "\n",
       "                                                 op4  \n",
       "0                                                 90  \n",
       "1                                                all  \n",
       "2  281474976710655,281474976710655,28147497671065...  \n",
       "3                                                  0  \n",
       "4                                                 90  "
      ]
     },
     "execution_count": 4,
     "metadata": {},
     "output_type": "execute_result"
    }
   ],
   "source": [
    "op= pd.read_table(\"../data/ad_operation.dat\",header=None,names=[\"id\",\"opa1\",\"opa2\",\"ops3\",\"op4\"])\n",
    "op.head()"
   ]
  },
  {
   "cell_type": "code",
   "execution_count": 8,
   "metadata": {},
   "outputs": [
    {
     "data": {
      "text/plain": [
       "647381"
      ]
     },
     "execution_count": 8,
     "metadata": {},
     "output_type": "execute_result"
    }
   ],
   "source": [
    "len(op[op['opa1']!=0])"
   ]
  },
  {
   "cell_type": "code",
   "execution_count": 9,
   "metadata": {},
   "outputs": [
    {
     "data": {
      "text/plain": [
       "(760866, 5)"
      ]
     },
     "execution_count": 9,
     "metadata": {},
     "output_type": "execute_result"
    }
   ],
   "source": [
    "op.shape"
   ]
  },
  {
   "cell_type": "code",
   "execution_count": 13,
   "metadata": {},
   "outputs": [
    {
     "data": {
      "text/plain": [
       "37321.0"
      ]
     },
     "execution_count": 13,
     "metadata": {},
     "output_type": "execute_result"
    }
   ],
   "source": [
    "len(op[op['opa2']==2])/3"
   ]
  },
  {
   "cell_type": "code",
   "execution_count": null,
   "metadata": {
    "collapsed": true
   },
   "outputs": [],
   "source": []
  }
 ],
 "metadata": {
  "kernelspec": {
   "display_name": "Python 3",
   "language": "python",
   "name": "python3"
  },
  "language_info": {
   "codemirror_mode": {
    "name": "ipython",
    "version": 3
   },
   "file_extension": ".py",
   "mimetype": "text/x-python",
   "name": "python",
   "nbconvert_exporter": "python",
   "pygments_lexer": "ipython3",
   "version": "3.6.3"
  }
 },
 "nbformat": 4,
 "nbformat_minor": 2
}
